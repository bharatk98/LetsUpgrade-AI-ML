{
 "cells": [
  {
   "cell_type": "markdown",
   "metadata": {},
   "source": [
    "# DAY 5\n",
    "## QUESTION 1"
   ]
  },
  {
   "cell_type": "code",
   "execution_count": 45,
   "metadata": {},
   "outputs": [
    {
     "name": "stdout",
     "output_type": "stream",
     "text": [
      "3\n",
      "5\n",
      "7\n",
      "11\n",
      "13\n",
      "17\n",
      "19\n",
      "23\n",
      "29\n",
      "31\n",
      "37\n",
      "41\n",
      "43\n",
      "47\n",
      "53\n",
      "59\n",
      "61\n",
      "67\n",
      "71\n",
      "73\n"
     ]
    }
   ],
   "source": [
    "def isPrime(num):\n",
    "    for i in range(2, num):\n",
    "        if (num % i) == 0:\n",
    "            return 0\n",
    "    else:\n",
    "        return 1\n",
    "        \n",
    "def isOdd(num):\n",
    "    if (num % 2 == 1):\n",
    "        return 1\n",
    "    else:\n",
    "        return 0\n",
    "\n",
    "naturals = 1\n",
    "counter = 1\n",
    "\n",
    "while(counter <= 20):\n",
    "    if (naturals == 1):\n",
    "        naturals += 1\n",
    "        continue\n",
    "    if isPrime(naturals) and isOdd(naturals):\n",
    "        print(naturals)\n",
    "        counter += 1\n",
    "    naturals += 1\n",
    "    \n",
    "        \n",
    "\n"
   ]
  },
  {
   "cell_type": "markdown",
   "metadata": {},
   "source": [
    "## QUESTION 2"
   ]
  },
  {
   "cell_type": "code",
   "execution_count": 57,
   "metadata": {},
   "outputs": [
    {
     "name": "stdout",
     "output_type": "stream",
     "text": [
      "EXAmPLE\n",
      "example\n",
      "EXAMPLE\n",
      "True\n",
      "False\n",
      "False\n",
      "3\n",
      "1\n",
      "4\n",
      "6\n",
      "False\n",
      "True\n",
      "Example\n",
      "example\n",
      "('exa', 'M', 'ple')\n",
      "['exa', 'ple']\n"
     ]
    }
   ],
   "source": [
    "str = 'exaMple'\n",
    "print(str.swapcase())\n",
    "print(str.lower())\n",
    "print(str.upper())\n",
    "print(str.isalpha())\n",
    "print(str.islower())\n",
    "print(str.isupper())\n",
    "print(str.find('M'))\n",
    "print(str.count('p'))\n",
    "print(str.index('ple'))\n",
    "print(str.rindex('e'))\n",
    "print(str.endswith('l'))\n",
    "print(str.startswith('e'))\n",
    "print(str.capitalize())\n",
    "print(str.replace('M','m'))\n",
    "print(str.partition('M'))\n",
    "print(str.split('M'))\n"
   ]
  },
  {
   "cell_type": "markdown",
   "metadata": {},
   "source": [
    "## QUESTION 3"
   ]
  },
  {
   "cell_type": "code",
   "execution_count": 70,
   "metadata": {},
   "outputs": [
    {
     "name": "stdout",
     "output_type": "stream",
     "text": [
      "abcdefghijklmnopqrstuvwxyz\n",
      "Given string is pangram\n",
      "for anagram?abcdefghijklmnopqrstuvwxyz\n",
      "Given strings are Anagrams\n"
     ]
    }
   ],
   "source": [
    "def isPalindrome(str):\n",
    "    return str == str[::-1]\n",
    "\n",
    "def isPangram(str): \n",
    "    alphabet = \"abcdefghijklmnopqrstuvwxyz\"\n",
    "    for char in alphabet: \n",
    "        if char not in str.lower(): \n",
    "            return False\n",
    "    return True\n",
    "\n",
    "def isAnagram(str1, str2):\n",
    "    return sorted(str1)==sorted(str2)\n",
    "\n",
    "def menu():\n",
    "    usr_input = raw_input()#python 2 has raw_input, python3 has input\n",
    "    if isPalindrome(usr_input):\n",
    "        print('Given string is Palindrome')\n",
    "    if isPangram(usr_input):\n",
    "        print('Given string is pangram')\n",
    "    usr_input2 = raw_input('for anagram?')#python 2 has raw_input, python3 has input\n",
    "    if isAnagram(usr_input, usr_input2):\n",
    "        print('Given strings are Anagrams')\n",
    "    if not (isPalindrome(usr_input) or isPangram(usr_input) or isAnagram(usr_input, usr_input2)):\n",
    "        print('Given string is None of them')\n",
    "\n",
    "menu()"
   ]
  },
  {
   "cell_type": "markdown",
   "metadata": {},
   "source": [
    "## QUESTION 4"
   ]
  },
  {
   "cell_type": "code",
   "execution_count": 66,
   "metadata": {},
   "outputs": [
    {
     "name": "stdout",
     "output_type": "stream",
     "text": [
      "iiioiojio???\n",
      "iiioiojio\n",
      "drdarshaningleaimltrainer\n"
     ]
    }
   ],
   "source": [
    "def removeCharacters(str):\n",
    "    result = ''\n",
    "    for i in str:\n",
    "        if(i.isalnum()):\n",
    "            result += i\n",
    "    return result.lower()\n",
    "usr_input = raw_input()#python 2 has raw_input, python3 has input\n",
    "print(removeCharacters(usr_input))\n",
    "print(removeCharacters('Dr. Darshan Ingle @AI-ML Trainer'))"
   ]
  }
 ],
 "metadata": {
  "kernelspec": {
   "display_name": "Python 2",
   "language": "python",
   "name": "python2"
  },
  "language_info": {
   "codemirror_mode": {
    "name": "ipython",
    "version": 2
   },
   "file_extension": ".py",
   "mimetype": "text/x-python",
   "name": "python",
   "nbconvert_exporter": "python",
   "pygments_lexer": "ipython2",
   "version": "2.7.16"
  }
 },
 "nbformat": 4,
 "nbformat_minor": 2
}
