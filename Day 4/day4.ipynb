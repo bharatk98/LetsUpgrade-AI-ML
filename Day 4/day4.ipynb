{
 "cells": [
  {
   "cell_type": "markdown",
   "metadata": {},
   "source": [
    "# DAY 4\n",
    "## QUESTION 1"
   ]
  },
  {
   "cell_type": "code",
   "execution_count": 19,
   "metadata": {},
   "outputs": [
    {
     "name": "stdout",
     "output_type": "stream",
     "text": [
      "(6+9j)\n",
      "(2+3j)\n",
      "(-10+24j)\n",
      "(2+0j)\n",
      "(2+0j)\n",
      "0j\n"
     ]
    },
    {
     "name": "stderr",
     "output_type": "stream",
     "text": [
      "/home/bk/anaconda2/lib/python2.7/site-packages/ipykernel_launcher.py:7: DeprecationWarning: complex divmod(), // and % are deprecated\n",
      "  import sys\n",
      "/home/bk/anaconda2/lib/python2.7/site-packages/ipykernel_launcher.py:8: DeprecationWarning: complex divmod(), // and % are deprecated\n",
      "  \n"
     ]
    }
   ],
   "source": [
    "first = 4 + 6j\n",
    "second = 2 + 3j\n",
    "print(first + second)\n",
    "print(first - second)\n",
    "print(first * second)\n",
    "print(first / second)\n",
    "print(first // second)\n",
    "print(first % second)"
   ]
  },
  {
   "cell_type": "markdown",
   "metadata": {},
   "source": [
    "## QUESTION 2"
   ]
  },
  {
   "cell_type": "markdown",
   "metadata": {},
   "source": [
    "**Range** function in Python works as a generator. It is very easy-to-use in-built function. It returns a range object which holds a list which can be easily iterated like a list. Lower limit and upper limit can be specified as the arguments of the function.\n",
    "\n",
    "It has 3 argument, **start**, **stop**, **step**, \n",
    "of which **stop** is required, and other two are optional.\n",
    "\n",
    "`range(start, stop[, step])`\n",
    "\n",
    "**start** specifies the lower limit from which the range starts. If not specified defaults to 0.(optional)\n",
    "**stop** specifies upper limit where range ends. It is required.\n",
    "**step** specifies difference you want between each number in the range.(optional)\n",
    "\n",
    "**NOTE**:ONLY INTEGERS ALLOWED\n",
    "\n",
    "**Example Code:**\n",
    "`\n",
    "print(\"Printing All even numbers between 2 and 10 using range()\")\n",
    "for i in range(2, 10, 2):\n",
    "    print(i)\n",
    "`"
   ]
  },
  {
   "cell_type": "markdown",
   "metadata": {},
   "source": [
    "## QUESTION 3"
   ]
  },
  {
   "cell_type": "code",
   "execution_count": 18,
   "metadata": {},
   "outputs": [
    {
     "name": "stdout",
     "output_type": "stream",
     "text": [
      "3840\n"
     ]
    }
   ],
   "source": [
    "a = 96\n",
    "b = 40\n",
    "if a - b > 25:\n",
    "    print(a*b)\n",
    "else:\n",
    "    print(a/b)"
   ]
  },
  {
   "cell_type": "markdown",
   "metadata": {},
   "source": [
    "## QUESTION 4"
   ]
  },
  {
   "cell_type": "code",
   "execution_count": 15,
   "metadata": {},
   "outputs": [
    {
     "name": "stdout",
     "output_type": "stream",
     "text": [
      "398\n",
      "254\n",
      "14\n",
      "34\n",
      "194\n",
      "98\n"
     ]
    }
   ],
   "source": [
    "lst1 = [20,16,4,21,6,14,9,11,19,10]\n",
    "for i in lst1:\n",
    "    if i%2 == 0:\n",
    "        print(i**2 - 2)"
   ]
  },
  {
   "cell_type": "markdown",
   "metadata": {},
   "source": [
    "## QUESTION 5"
   ]
  },
  {
   "cell_type": "code",
   "execution_count": 14,
   "metadata": {},
   "outputs": [
    {
     "name": "stdout",
     "output_type": "stream",
     "text": [
      "38\n",
      "17\n",
      "19\n",
      "20\n",
      "16\n"
     ]
    }
   ],
   "source": [
    "lst2 = [13,6,38,14,17,19,20,12,16,15]\n",
    "for i in lst:\n",
    "    if (i/2 > 7):\n",
    "        print(i)"
   ]
  }
 ],
 "metadata": {
  "kernelspec": {
   "display_name": "Python 2",
   "language": "python",
   "name": "python2"
  },
  "language_info": {
   "codemirror_mode": {
    "name": "ipython",
    "version": 2
   },
   "file_extension": ".py",
   "mimetype": "text/x-python",
   "name": "python",
   "nbconvert_exporter": "python",
   "pygments_lexer": "ipython2",
   "version": "2.7.16"
  }
 },
 "nbformat": 4,
 "nbformat_minor": 2
}
