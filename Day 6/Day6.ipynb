{
 "cells": [
  {
   "cell_type": "markdown",
   "metadata": {},
   "source": [
    "# DAY 6"
   ]
  },
  {
   "cell_type": "markdown",
   "metadata": {},
   "source": [
    "## QUESTION 1"
   ]
  },
  {
   "cell_type": "code",
   "execution_count": 6,
   "metadata": {},
   "outputs": [
    {
     "name": "stdout",
     "output_type": "stream",
     "text": [
      "Enter email...: bhr@1mg.com\n",
      "('COMPANY NAME: ', '1mg')\n"
     ]
    }
   ],
   "source": [
    "user_email= raw_input('Enter email...: ')#python2\n",
    "start = user_email.index('@')\n",
    "end = user_email.index('.')\n",
    "print('COMPANY NAME: ',user_email[start+1:end])"
   ]
  },
  {
   "cell_type": "markdown",
   "metadata": {},
   "source": [
    "## QUESTION 2"
   ]
  },
  {
   "cell_type": "code",
   "execution_count": 5,
   "metadata": {},
   "outputs": [
    {
     "name": "stdout",
     "output_type": "stream",
     "text": [
      "Enter list...:without,hello,bag,world\n",
      "['bag', 'hello', 'without', 'world']\n"
     ]
    }
   ],
   "source": [
    "user_input = list(raw_input('Enter list...:').split(','))\n",
    "user_input.sort()\n",
    "print(user_input)"
   ]
  },
  {
   "cell_type": "markdown",
   "metadata": {},
   "source": [
    "## QUESTION 3"
   ]
  },
  {
   "cell_type": "markdown",
   "metadata": {},
   "source": [
    "## Different notebook "
   ]
  },
  {
   "cell_type": "markdown",
   "metadata": {},
   "source": [
    "## QUESTION 4"
   ]
  },
  {
   "cell_type": "code",
   "execution_count": 8,
   "metadata": {},
   "outputs": [
    {
     "name": "stdout",
     "output_type": "stream",
     "text": [
      "Enter list of numbers:1 2 4 6 3 7 8\n",
      "('Missing: ', 5)\n"
     ]
    }
   ],
   "source": [
    "user_input = list(map(int,raw_input('Enter list of numbers:').split(' ')))\n",
    "length = len(user_input)+1\n",
    "total_without_missing = sum(list(range(1,length+1)))\n",
    "total_with_missing = sum(user_input)\n",
    "print('Missing: ', total_without_missing - total_with_missing)"
   ]
  },
  {
   "cell_type": "markdown",
   "metadata": {},
   "source": [
    "## QUESTION 5"
   ]
  },
  {
   "cell_type": "code",
   "execution_count": 12,
   "metadata": {},
   "outputs": [
    {
     "name": "stdout",
     "output_type": "stream",
     "text": [
      "Enter list of numbers:12 24 35 24\n",
      "[12, 24, 35]\n"
     ]
    }
   ],
   "source": [
    "user_input = list(map(int,raw_input('Enter list of numbers:').split(' ')))\n",
    "no_duplicates_list = []\n",
    "for item in user_input:\n",
    "    if item not in no_duplicates_list:\n",
    "        no_duplicates_list.append(item)\n",
    "print(no_duplicates_list)"
   ]
  }
 ],
 "metadata": {
  "kernelspec": {
   "display_name": "Python 2",
   "language": "python",
   "name": "python2"
  },
  "language_info": {
   "codemirror_mode": {
    "name": "ipython",
    "version": 2
   },
   "file_extension": ".py",
   "mimetype": "text/x-python",
   "name": "python",
   "nbconvert_exporter": "python",
   "pygments_lexer": "ipython2",
   "version": "2.7.16"
  }
 },
 "nbformat": 4,
 "nbformat_minor": 2
}
