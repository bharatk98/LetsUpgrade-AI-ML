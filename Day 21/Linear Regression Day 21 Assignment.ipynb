{
 "cells": [
  {
   "cell_type": "markdown",
   "metadata": {},
   "source": [
    "# Real estate Analysis"
   ]
  },
  {
   "cell_type": "code",
   "execution_count": 36,
   "metadata": {},
   "outputs": [],
   "source": [
    "import pandas as pd\n",
    "from sklearn.model_selection import train_test_split\n",
    "from sklearn.metrics import mean_squared_error, r2_score\n",
    "from sklearn.linear_model import LinearRegression\n",
    "import numpy as np"
   ]
  },
  {
   "cell_type": "code",
   "execution_count": 10,
   "metadata": {},
   "outputs": [
    {
     "data": {
      "text/html": [
       "<div>\n",
       "<style scoped>\n",
       "    .dataframe tbody tr th:only-of-type {\n",
       "        vertical-align: middle;\n",
       "    }\n",
       "\n",
       "    .dataframe tbody tr th {\n",
       "        vertical-align: top;\n",
       "    }\n",
       "\n",
       "    .dataframe thead th {\n",
       "        text-align: right;\n",
       "    }\n",
       "</style>\n",
       "<table border=\"1\" class=\"dataframe\">\n",
       "  <thead>\n",
       "    <tr style=\"text-align: right;\">\n",
       "      <th></th>\n",
       "      <th>price</th>\n",
       "      <th>sqft_living</th>\n",
       "      <th>bedrooms</th>\n",
       "      <th>bathrooms</th>\n",
       "      <th>floors</th>\n",
       "    </tr>\n",
       "  </thead>\n",
       "  <tbody>\n",
       "    <tr>\n",
       "      <th>0</th>\n",
       "      <td>221900</td>\n",
       "      <td>1180</td>\n",
       "      <td>3</td>\n",
       "      <td>1.00</td>\n",
       "      <td>1.0</td>\n",
       "    </tr>\n",
       "    <tr>\n",
       "      <th>1</th>\n",
       "      <td>538000</td>\n",
       "      <td>2570</td>\n",
       "      <td>3</td>\n",
       "      <td>2.25</td>\n",
       "      <td>2.0</td>\n",
       "    </tr>\n",
       "    <tr>\n",
       "      <th>2</th>\n",
       "      <td>180000</td>\n",
       "      <td>770</td>\n",
       "      <td>2</td>\n",
       "      <td>1.00</td>\n",
       "      <td>1.0</td>\n",
       "    </tr>\n",
       "    <tr>\n",
       "      <th>3</th>\n",
       "      <td>604000</td>\n",
       "      <td>1960</td>\n",
       "      <td>4</td>\n",
       "      <td>3.00</td>\n",
       "      <td>1.0</td>\n",
       "    </tr>\n",
       "    <tr>\n",
       "      <th>4</th>\n",
       "      <td>510000</td>\n",
       "      <td>1680</td>\n",
       "      <td>3</td>\n",
       "      <td>2.00</td>\n",
       "      <td>1.0</td>\n",
       "    </tr>\n",
       "  </tbody>\n",
       "</table>\n",
       "</div>"
      ],
      "text/plain": [
       "    price  sqft_living  bedrooms  bathrooms  floors\n",
       "0  221900         1180         3       1.00     1.0\n",
       "1  538000         2570         3       2.25     2.0\n",
       "2  180000          770         2       1.00     1.0\n",
       "3  604000         1960         4       3.00     1.0\n",
       "4  510000         1680         3       2.00     1.0"
      ]
     },
     "execution_count": 10,
     "metadata": {},
     "output_type": "execute_result"
    }
   ],
   "source": [
    "dataset = pd.read_excel('/home/bk/Desktop/mlai/Notes/Day 21/dataset/Linear Regression.xlsx')\n",
    "dataset.head()"
   ]
  },
  {
   "cell_type": "code",
   "execution_count": 11,
   "metadata": {},
   "outputs": [
    {
     "data": {
      "text/plain": [
       "Index(['price', 'sqft_living', 'bedrooms', 'bathrooms', 'floors'], dtype='object')"
      ]
     },
     "execution_count": 11,
     "metadata": {},
     "output_type": "execute_result"
    }
   ],
   "source": [
    "dataset.columns\n"
   ]
  },
  {
   "cell_type": "code",
   "execution_count": 18,
   "metadata": {},
   "outputs": [],
   "source": [
    "dataset.drop_duplicates(inplace=True)\n",
    "dataset.dropna(inplace=True)"
   ]
  },
  {
   "cell_type": "code",
   "execution_count": 19,
   "metadata": {},
   "outputs": [
    {
     "data": {
      "text/plain": [
       "['sqft_living', 'bedrooms', 'bathrooms', 'floors']"
      ]
     },
     "execution_count": 19,
     "metadata": {},
     "output_type": "execute_result"
    }
   ],
   "source": [
    "cols = dataset.drop(['price'],axis=1).columns.tolist()\n",
    "cols"
   ]
  },
  {
   "cell_type": "code",
   "execution_count": 25,
   "metadata": {},
   "outputs": [
    {
     "data": {
      "text/plain": [
       "0        221900\n",
       "1        538000\n",
       "2        180000\n",
       "3        604000\n",
       "4        510000\n",
       "          ...  \n",
       "21608    360000\n",
       "21609    400000\n",
       "21610    402101\n",
       "21611    400000\n",
       "21612    325000\n",
       "Name: price, Length: 21347, dtype: int64"
      ]
     },
     "execution_count": 25,
     "metadata": {},
     "output_type": "execute_result"
    }
   ],
   "source": [
    "dependent = pd.DataFrame(dataset['price'])\n",
    "dependent"
   ]
  },
  {
   "cell_type": "code",
   "execution_count": 43,
   "metadata": {},
   "outputs": [
    {
     "name": "stdout",
     "output_type": "stream",
     "text": [
      "=====================================\n",
      "\n",
      "=====================================\n",
      "\n",
      "Price vs sqft_living\n",
      "\n",
      "Coeficient is 276.880432907756\n",
      "The R^2 value is: 0.5029310605813945\n",
      "The RMSE value is: 272082.4248082161\n",
      "We can infer that price increases by 276.880432907756 per unit increase in sqft_living\n",
      "=====================================\n",
      "\n",
      "=====================================\n",
      "\n",
      "=====================================\n",
      "\n",
      "=====================================\n",
      "\n",
      "Price vs bedrooms\n",
      "\n",
      "Coeficient is 126220.596662401\n",
      "The R^2 value is: 0.07170267631840799\n",
      "The RMSE value is: 371822.5504955901\n",
      "We can infer that price increases by 126220.596662401 per unit increase in bedrooms\n",
      "=====================================\n",
      "\n",
      "=====================================\n",
      "\n",
      "=====================================\n",
      "\n",
      "=====================================\n",
      "\n",
      "Price vs bathrooms\n",
      "\n",
      "Coeficient is 250995.4343935222\n",
      "The R^2 value is: 0.2504947684323794\n",
      "The RMSE value is: 334102.33483877813\n",
      "We can infer that price increases by 250995.4343935222 per unit increase in bathrooms\n",
      "=====================================\n",
      "\n",
      "=====================================\n",
      "\n",
      "=====================================\n",
      "\n",
      "=====================================\n",
      "\n",
      "Price vs floors\n",
      "\n",
      "Coeficient is 179992.79319052614\n",
      "The R^2 value is: 0.046817614920313555\n",
      "The RMSE value is: 376773.3532398646\n",
      "We can infer that price increases by 179992.79319052614 per unit increase in floors\n",
      "=====================================\n",
      "\n",
      "=====================================\n",
      "\n"
     ]
    }
   ],
   "source": [
    "for col in cols:\n",
    "    independent = pd.DataFrame(dataset[col])\n",
    "    independent_train,independent_test,dependent_train,dependent_test = train_test_split(independent ,dependent, test_size = 0.2, random_state = 2)\n",
    "    lin_reg = LinearRegression()\n",
    "    lin_reg.fit(independent_train, dependent_train)\n",
    "    print('=====================================\\n')\n",
    "    print('=====================================\\n')\n",
    "    print('Price vs ' + col+'\\n')\n",
    "    print('Coeficient is '+str(lin_reg.coef_[0]))\n",
    "    dependent_pred = lin_reg.predict(independent_test)\n",
    "    RMSE = np.sqrt(mean_squared_error(dependent_test, dependent_pred))\n",
    "    r_square = r2_score(dependent_test, dependent_pred)\n",
    "\n",
    "    print('The R^2 value is:', r_square)\n",
    "    print('The RMSE value is:', RMSE)\n",
    "    print('We can infer that price increases by ' +str(lin_reg.coef_[0])+' per unit increase in '+ col)\n",
    "    print('=====================================\\n')\n",
    "    print('=====================================\\n')\n",
    "    "
   ]
  }
 ],
 "metadata": {
  "kernelspec": {
   "display_name": "Python 3",
   "language": "python",
   "name": "python3"
  },
  "language_info": {
   "codemirror_mode": {
    "name": "ipython",
    "version": 3
   },
   "file_extension": ".py",
   "mimetype": "text/x-python",
   "name": "python",
   "nbconvert_exporter": "python",
   "pygments_lexer": "ipython3",
   "version": "3.7.6"
  }
 },
 "nbformat": 4,
 "nbformat_minor": 4
}
