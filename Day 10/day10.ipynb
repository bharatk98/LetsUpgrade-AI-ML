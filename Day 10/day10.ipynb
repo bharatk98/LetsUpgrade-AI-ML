{
 "cells": [
  {
   "cell_type": "markdown",
   "metadata": {},
   "source": [
    "# Hypothesises"
   ]
  },
  {
   "cell_type": "markdown",
   "metadata": {},
   "source": [
    "1. Mean monthly salary for attried < 62k\n",
    "2. Mean of TotalWorkingYears for atrited < 9\n",
    "3. Mean of yeear since last promotion > 1.5 years\n",
    "4. Mean age for atrition as yes is 32 \n",
    "5. Mean percent hike < 15%\n",
    "6. Mean YeasAtCompany < 5\n",
    "7. Married with monthly income < 60k are atrited\n",
    "8. Atrited with stockoptionlevel <= 2\n",
    "9. Attried are mean YearsWithCurrManager <3\n",
    "10. Attrited Job level < 3"
   ]
  }
 ],
 "metadata": {
  "kernelspec": {
   "display_name": "Python 3",
   "language": "python",
   "name": "python3"
  },
  "language_info": {
   "codemirror_mode": {
    "name": "ipython",
    "version": 3
   },
   "file_extension": ".py",
   "mimetype": "text/x-python",
   "name": "python",
   "nbconvert_exporter": "python",
   "pygments_lexer": "ipython3",
   "version": "3.7.6"
  }
 },
 "nbformat": 4,
 "nbformat_minor": 4
}
