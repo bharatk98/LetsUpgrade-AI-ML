{
 "cells": [
  {
   "cell_type": "markdown",
   "metadata": {},
   "source": [
    "# DAY 3\n",
    "## QUESTION 1"
   ]
  },
  {
   "cell_type": "code",
   "execution_count": 2,
   "metadata": {},
   "outputs": [
    {
     "name": "stdout",
     "output_type": "stream",
     "text": [
      "(-5+2j)\n"
     ]
    }
   ],
   "source": [
    "a = 4 + 5j\n",
    "b = 9 + 3j\n",
    "\n",
    "c = a - b\n",
    "print(c)"
   ]
  },
  {
   "cell_type": "markdown",
   "metadata": {},
   "source": [
    "## QUESTION 2"
   ]
  },
  {
   "cell_type": "code",
   "execution_count": 4,
   "metadata": {},
   "outputs": [
    {
     "name": "stdout",
     "output_type": "stream",
     "text": [
      "5.0\n"
     ]
    }
   ],
   "source": [
    "a = 625\n",
    "fourth_root = a ** 0.25\n",
    "print(fourth_root)"
   ]
  },
  {
   "cell_type": "markdown",
   "metadata": {},
   "source": [
    "## QUESTION 3"
   ]
  },
  {
   "cell_type": "code",
   "execution_count": 7,
   "metadata": {},
   "outputs": [
    {
     "name": "stdout",
     "output_type": "stream",
     "text": [
      "('Before Swap : a is ', 5, 'and b is ', 9)\n",
      "('After Swap : a is ', 9, 'and b is ', 5)\n"
     ]
    }
   ],
   "source": [
    "a = 5\n",
    "b = 9\n",
    "print(\"Before Swap : a is \",a,\"and b is \",b)\n",
    "temp = a\n",
    "a = b\n",
    "b = temp\n",
    "print(\"After Swap : a is \",a,\"and b is \",b)"
   ]
  },
  {
   "cell_type": "markdown",
   "metadata": {},
   "source": [
    "## QUESTION 4"
   ]
  },
  {
   "cell_type": "code",
   "execution_count": 10,
   "metadata": {},
   "outputs": [
    {
     "name": "stdout",
     "output_type": "stream",
     "text": [
      "('Before Swap : a is ', 10, 'and b is ', 20)\n",
      "('After Swap : a is ', 20, 'and b is ', 10)\n"
     ]
    }
   ],
   "source": [
    "a = 10\n",
    "b = 20\n",
    "print(\"Before Swap : a is \",a,\"and b is \",b)\n",
    "\n",
    "a,b = b,a\n",
    "print(\"After Swap : a is \",a,\"and b is \",b)"
   ]
  },
  {
   "cell_type": "markdown",
   "metadata": {},
   "source": [
    "## QUESTION 5"
   ]
  },
  {
   "cell_type": "code",
   "execution_count": 14,
   "metadata": {},
   "outputs": [
    {
     "name": "stdout",
     "output_type": "stream",
     "text": [
      "(-39, ' fahrenheit is ', -40, ' celsius and ', 233.5, ' kelvin .')\n"
     ]
    }
   ],
   "source": [
    "fahrenheit = -39\n",
    "celsius = (fahrenheit - 32) * 5/9\n",
    "kelvin = 273.5 + celsius\n",
    "print(fahrenheit,\" fahrenheit is \", celsius, \" celsius and \", kelvin,\" kelvin .\")"
   ]
  },
  {
   "cell_type": "markdown",
   "metadata": {},
   "source": [
    "## QUESTION 6"
   ]
  },
  {
   "cell_type": "code",
   "execution_count": 15,
   "metadata": {},
   "outputs": [
    {
     "name": "stdout",
     "output_type": "stream",
     "text": [
      "(5, 'is of type', <type 'int'>)\n",
      "(5.5, 'is of type', <type 'float'>)\n",
      "((5+5j), 'is of type', <type 'complex'>)\n",
      "('5', 'is of type', <type 'str'>)\n",
      "((5, 5), 'is of type', <type 'tuple'>)\n",
      "([5, 5], 'is of type', <type 'list'>)\n",
      "({5: 5}, 'is of type', <type 'dict'>)\n",
      "(set([5, 6]), 'is of type', <type 'set'>)\n"
     ]
    }
   ],
   "source": [
    "a = 5\n",
    "b = 5.5\n",
    "c = 5+5j\n",
    "d = '5'\n",
    "e = 5,5\n",
    "f = [5,5]\n",
    "g = {5:5}\n",
    "h = {5,6}\n",
    "print(a, \"is of type\", type(a))\n",
    "print(b, \"is of type\", type(b))\n",
    "print(c, \"is of type\", type(c))\n",
    "print(d, \"is of type\", type(d))\n",
    "print(e, \"is of type\", type(e))\n",
    "print(f, \"is of type\", type(f))\n",
    "print(g, \"is of type\", type(g))\n",
    "print(h, \"is of type\", type(h))"
   ]
  },
  {
   "cell_type": "markdown",
   "metadata": {},
   "source": [
    "## QUESTION 7"
   ]
  },
  {
   "cell_type": "markdown",
   "metadata": {},
   "source": [
    "**Steps to create a Github Profile and upload Let's Upgrade assignments**\n",
    "1. Firstly open an account on *Github* and for that follow the steps given in https://www.wikihow.com/Create-an-Account-on-GitHub\n",
    "2. As progressing through the course, make sure you are maintaining notes and organising your course related stuff like assignments and all systematically in folders.\n",
    "3. So make a folder in your machine, and for each day make a folder and save its assignments and your notes or ppts in them.\n",
    "4. Now for *assignment submission*, you are dealing with python notebooks, so save them in respective folders as per day.\n",
    "5. Now lets jump to the process, go to logged in *Github website*.\n",
    "6. You will see *Create Repository*, click on that.\n",
    "7. It will ask for a name for the new repository, type *LetsUpgrade-AI-ML*, and in the next part, choose *public* and proceed.\n",
    "8. After proceeding , on the same page, you'll see a link *uploading an existing file* , click on that.\n",
    "9. then you will see a box, asking *Drag and Drop the files here* and *choose files*.\n",
    "10. You can go for either of the ways.\n",
    "11. You have to upload the entire folder, so either choose it from the new dialog box or drag the folder in the space .\n",
    "12. After uploading verify if the assignment notebook is there on in the uploaded folder.\n",
    "13. If everything is fine, copy the url of the page.\n",
    "14. Open the *Google form* link provided by lets upgrade community and fill that form with correct details.\n",
    "15. And paste the copied link in the last question asked.\n",
    "16. Verify the public status of your repository by opening the link in *Incognito Mode*, and after successful varification , submit the form.\n",
    "17. Verify that you receive a copy of your responses on your mail id.\n",
    "---\n",
    "thank you!!!!"
   ]
  },
  {
   "cell_type": "code",
   "execution_count": null,
   "metadata": {},
   "outputs": [],
   "source": []
  }
 ],
 "metadata": {
  "kernelspec": {
   "display_name": "Python 2",
   "language": "python",
   "name": "python2"
  },
  "language_info": {
   "codemirror_mode": {
    "name": "ipython",
    "version": 2
   },
   "file_extension": ".py",
   "mimetype": "text/x-python",
   "name": "python",
   "nbconvert_exporter": "python",
   "pygments_lexer": "ipython2",
   "version": "2.7.16"
  }
 },
 "nbformat": 4,
 "nbformat_minor": 2
}
